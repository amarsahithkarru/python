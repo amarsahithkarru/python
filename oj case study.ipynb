{
 "cells": [
  {
   "cell_type": "code",
   "execution_count": 2,
   "metadata": {},
   "outputs": [],
   "source": [
    "import pandas as pd\n",
    "import numpy as np\n",
    "oj = pd.read_csv(\"oj.csv\",sep = ',',header = 0)\n",
    "\n",
    "                 "
   ]
  },
  {
   "cell_type": "code",
   "execution_count": 3,
   "metadata": {},
   "outputs": [],
   "source": [
    "data = pd.DataFrame(oj)\n"
   ]
  },
  {
   "cell_type": "code",
   "execution_count": null,
   "metadata": {},
   "outputs": [],
   "source": [
    "#1.\tFind the dimensions of the oj data set\n",
    "\n",
    "data.dtypes"
   ]
  },
  {
   "cell_type": "code",
   "execution_count": null,
   "metadata": {},
   "outputs": [],
   "source": [
    "#2.\tFind the structure of the data set\n",
    "data.info"
   ]
  },
  {
   "cell_type": "code",
   "execution_count": null,
   "metadata": {},
   "outputs": [],
   "source": [
    "#3.\tFind out the column names in the data set\n",
    "data.columns.values"
   ]
  },
  {
   "cell_type": "code",
   "execution_count": null,
   "metadata": {},
   "outputs": [],
   "source": [
    "\n",
    "#4.\tDescribe the data set\n",
    "print(data.describe())"
   ]
  },
  {
   "cell_type": "code",
   "execution_count": null,
   "metadata": {},
   "outputs": [],
   "source": [
    "\n",
    "#1.\tFetch the first row 3rd column from the data set\n",
    "data.iloc[2,0]"
   ]
  },
  {
   "cell_type": "code",
   "execution_count": null,
   "metadata": {},
   "outputs": [],
   "source": [
    "\n",
    "#2.\tFetch the first, second and Third columns of the oj data frame\n",
    "\n",
    "data.iloc[:,[0,1,2]]"
   ]
  },
  {
   "cell_type": "code",
   "execution_count": null,
   "metadata": {},
   "outputs": [],
   "source": [
    "#3.\tFetch the first, second, eighth and the 456th rows of the 1st, third and the sixth columns of the data frame\n",
    "data.iloc[[0,1,7,455],[0,2,5]]"
   ]
  },
  {
   "cell_type": "code",
   "execution_count": null,
   "metadata": {},
   "outputs": [],
   "source": [
    "#4.\tFetch the top 5 rows of the brand column\n",
    "data.brand.head()\n"
   ]
  },
  {
   "cell_type": "code",
   "execution_count": null,
   "metadata": {},
   "outputs": [],
   "source": [
    "#5.\tFetch top 5 rows of the brand, week and feat details\n",
    "data.loc[:4,['brand','week','feat']]"
   ]
  },
  {
   "cell_type": "code",
   "execution_count": null,
   "metadata": {},
   "outputs": [],
   "source": [
    "#6.\tFetch the details of all distinct stores\n",
    "data.store.unique"
   ]
  },
  {
   "cell_type": "code",
   "execution_count": null,
   "metadata": {},
   "outputs": [],
   "source": [
    "#7.\tFetch all the observations for Tropicana brand\n",
    "data[data.brand==\"tropicana\"]"
   ]
  },
  {
   "cell_type": "code",
   "execution_count": null,
   "metadata": {},
   "outputs": [],
   "source": [
    "#8.\tFetch all the observations for Tropicana brand using query function\n",
    "data.query(\"(brand=='tropicana')\")"
   ]
  },
  {
   "cell_type": "code",
   "execution_count": null,
   "metadata": {},
   "outputs": [],
   "source": [
    "#9.\tFetch bottom 5 observations for those who have bought Tropicana or dominics\n",
    "\n",
    "data.query(\"(brand=='tropicana' or brand=='dominicks')\").tail(5)"
   ]
  },
  {
   "cell_type": "code",
   "execution_count": null,
   "metadata": {},
   "outputs": [],
   "source": [
    "#10.Fetch the income, brand, price observations with Tropicana brand without feature advertisement\n",
    "\n",
    "data.query(\"(brand=='tropicana' and feat==0)\")[[\"INCOME\",\"brand\",\"price\"]]"
   ]
  },
  {
   "cell_type": "code",
   "execution_count": null,
   "metadata": {},
   "outputs": [],
   "source": [
    "#11.Add a new column in the dataset: logInc which is the logarithm of the income\n",
    "\n",
    "data['logINC']=np.log(data.INCOME)\n"
   ]
  },
  {
   "cell_type": "code",
   "execution_count": 8,
   "metadata": {},
   "outputs": [],
   "source": [
    "#12.Sort the Data in the increasing order of the week\n",
    "\n",
    "data=data.sort_values(by=\"week\",ascending=True)"
   ]
  },
  {
   "cell_type": "code",
   "execution_count": null,
   "metadata": {},
   "outputs": [],
   "source": [
    "#13.Sort the data in the decreasing order of Income\n",
    "\n",
    "data=data.sort_values(by=\"INCOME\",ascending=False)"
   ]
  },
  {
   "cell_type": "code",
   "execution_count": null,
   "metadata": {},
   "outputs": [],
   "source": [
    "#14.Find the mean of the juice price for each brand\n",
    "\n",
    "data.groupby([\"brand\"]).mean().price"
   ]
  },
  {
   "cell_type": "code",
   "execution_count": null,
   "metadata": {},
   "outputs": [],
   "source": [
    "#15.Find the average income for each brand and at each store\n",
    "data.groupby([\"brand\",\"store\"]).mean().INCOME"
   ]
  },
  {
   "cell_type": "code",
   "execution_count": null,
   "metadata": {},
   "outputs": [],
   "source": [
    "#16.\tFind:\n",
    "#a.\tMean and std deviation of the income\n",
    "data.INCOME.mean()\n",
    "data.INCOME.std()\n",
    "#b.\tFor income greater than or equal to 10.5, find the mean income\n",
    "data[data.INCOME>=10.5].mean().INCOME\n",
    "#c.\tFor each brand having price >=2.5 find the mean, median, sd of the log of income\n",
    "\n",
    "data[data.price>=2.5].mean().logINC\n",
    "data[data.price>=2.5].median().logINC\n",
    "data[data.price>=2.5].std().logINC\n",
    "\n",
    "\n"
   ]
  },
  {
   "cell_type": "code",
   "execution_count": null,
   "metadata": {},
   "outputs": [],
   "source": [
    "#17.\tFind the Cross tabulation of brands and feature advertisement\n",
    "\n",
    "pd.crosstab(data.brand,data.feat)"
   ]
  }
 ],
 "metadata": {
  "kernelspec": {
   "display_name": "Python 3",
   "language": "python",
   "name": "python3"
  },
  "language_info": {
   "codemirror_mode": {
    "name": "ipython",
    "version": 3
   },
   "file_extension": ".py",
   "mimetype": "text/x-python",
   "name": "python",
   "nbconvert_exporter": "python",
   "pygments_lexer": "ipython3",
   "version": "3.6.4"
  }
 },
 "nbformat": 4,
 "nbformat_minor": 2
}
